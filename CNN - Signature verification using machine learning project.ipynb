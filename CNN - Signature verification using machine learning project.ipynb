{
 "cells": [
  {
   "cell_type": "markdown",
   "id": "4845bd1d",
   "metadata": {},
   "source": [
    "# Importing Libraries and modules\n"
   ]
  },
  {
   "cell_type": "code",
   "execution_count": 1,
   "id": "49cccdd4",
   "metadata": {},
   "outputs": [
    {
     "name": "stdout",
     "output_type": "stream",
     "text": [
      "WARNING:tensorflow:From c:\\Users\\divis\\OneDrive\\Documents\\Signature-Verification-using-machine-learning-main\\.venv\\lib\\site-packages\\keras\\src\\losses.py:2976: The name tf.losses.sparse_softmax_cross_entropy is deprecated. Please use tf.compat.v1.losses.sparse_softmax_cross_entropy instead.\n",
      "\n"
     ]
    }
   ],
   "source": [
    "import os\n",
    "import numpy as np\n",
    "import pandas as pd\n",
    "import matplotlib.pyplot as plt\n",
    "from skimage import io, transform, exposure\n",
    "from sklearn.model_selection import KFold\n",
    "from tensorflow.keras.models import Sequential\n",
    "from tensorflow.keras.layers import Conv2D, MaxPooling2D, Flatten, Dense, Dropout, BatchNormalization, GaussianNoise\n",
    "from tensorflow.keras.optimizers import Adam\n",
    "from tensorflow.keras.preprocessing.image import ImageDataGenerator\n",
    "from tensorflow.keras.callbacks import EarlyStopping, ReduceLROnPlateau\n",
    "from tensorflow.keras.regularizers import l2\n",
    "\n"
   ]
  },
  {
   "cell_type": "markdown",
   "id": "8197d77d",
   "metadata": {},
   "source": [
    "# Define path of signatures"
   ]
  },
  {
   "cell_type": "code",
   "execution_count": 2,
   "id": "ad3a4ad5",
   "metadata": {},
   "outputs": [],
   "source": [
    "genuine_image_path = r\"C:\\Users\\divis\\OneDrive\\Documents\\Signature-Verification-using-machine-learning-main\\real\"\n",
    "forged_image_path = r\"C:\\Users\\divis\\OneDrive\\Documents\\Signature-Verification-using-machine-learning-main\\forged\""
   ]
  },
  {
   "cell_type": "markdown",
   "id": "fa572e69",
   "metadata": {},
   "source": [
    "# Preprocessing the image"
   ]
  },
  {
   "cell_type": "code",
   "execution_count": 3,
   "id": "e7677cf8",
   "metadata": {},
   "outputs": [],
   "source": [
    "def load_and_preprocess_images(genuine_path, forged_path):\n",
    "    data = []\n",
    "    labels = []\n",
    "    \n",
    "    for file in os.listdir(genuine_path):\n",
    "        if file.endswith(\".png\"):\n",
    "            img = io.imread(os.path.join(genuine_path, file), as_gray=True)\n",
    "            # Enhanced preprocessing\n",
    "            img = exposure.equalize_adapthist(img)  # Contrast enhancement\n",
    "            img = transform.resize(img, (128, 128))\n",
    "            img = (img - np.mean(img)) / np.std(img)  # Normalization\n",
    "            data.append(img)\n",
    "            labels.append(1)\n",
    "    \n",
    "    for file in os.listdir(forged_path):\n",
    "        if file.endswith(\".png\"):\n",
    "            img = io.imread(os.path.join(forged_path, file), as_gray=True)\n",
    "            img = exposure.equalize_adapthist(img)\n",
    "            img = transform.resize(img, (128, 128))\n",
    "            img = (img - np.mean(img)) / np.std(img)\n",
    "            data.append(img)\n",
    "            labels.append(0)\n",
    "    \n",
    "    data = np.array(data)\n",
    "    data = data.reshape((data.shape[0], 128, 128, 1))\n",
    "    labels = np.array(labels)\n",
    "    \n",
    "    return data, labels\n"
   ]
  },
  {
   "cell_type": "code",
   "execution_count": 4,
   "id": "e69bb595",
   "metadata": {},
   "outputs": [],
   "source": [
    "def create_data_generator():\n",
    "    return ImageDataGenerator(\n",
    "        rotation_range=10,\n",
    "        width_shift_range=0.1,\n",
    "        height_shift_range=0.1,\n",
    "        shear_range=0.1,\n",
    "        zoom_range=0.1,\n",
    "        horizontal_flip=False,\n",
    "        fill_mode='nearest'\n",
    "    )"
   ]
  },
  {
   "cell_type": "markdown",
   "id": "8c45d5a7",
   "metadata": {},
   "source": [
    "## Define the CNN model"
   ]
  },
  {
   "cell_type": "code",
   "execution_count": 5,
   "id": "4eb0d201",
   "metadata": {
    "scrolled": true
   },
   "outputs": [],
   "source": [
    "# Improved CNN model\n",
    "def create_improved_model(input_shape):\n",
    "    model = Sequential([\n",
    "        GaussianNoise(0.1, input_shape=input_shape),\n",
    "        \n",
    "        # First Conv Block\n",
    "        Conv2D(64, (3, 3), activation='relu', padding='same', kernel_regularizer=l2(0.001)),\n",
    "        BatchNormalization(),\n",
    "        Conv2D(64, (3, 3), activation='relu', padding='same', kernel_regularizer=l2(0.001)),\n",
    "        BatchNormalization(),\n",
    "        MaxPooling2D((2, 2)),\n",
    "        Dropout(0.25),\n",
    "        \n",
    "        # Second Conv Block\n",
    "        Conv2D(128, (3, 3), activation='relu', padding='same', kernel_regularizer=l2(0.001)),\n",
    "        BatchNormalization(),\n",
    "        Conv2D(128, (3, 3), activation='relu', padding='same', kernel_regularizer=l2(0.001)),\n",
    "        BatchNormalization(),\n",
    "        MaxPooling2D((2, 2)),\n",
    "        Dropout(0.25),\n",
    "        \n",
    "        # Third Conv Block\n",
    "        Conv2D(256, (3, 3), activation='relu', padding='same', kernel_regularizer=l2(0.001)),\n",
    "        BatchNormalization(),\n",
    "        Conv2D(256, (3, 3), activation='relu', padding='same', kernel_regularizer=l2(0.001)),\n",
    "        BatchNormalization(),\n",
    "        MaxPooling2D((2, 2)),\n",
    "        Dropout(0.25),\n",
    "        \n",
    "        # Dense Layers\n",
    "        Flatten(),\n",
    "        Dense(512, activation='relu', kernel_regularizer=l2(0.001)),\n",
    "        BatchNormalization(),\n",
    "        Dropout(0.5),\n",
    "        Dense(256, activation='relu', kernel_regularizer=l2(0.001)),\n",
    "        BatchNormalization(),\n",
    "        Dropout(0.5),\n",
    "        Dense(1, activation='sigmoid')\n",
    "    ])\n",
    "    \n",
    "    optimizer = Adam(learning_rate=0.0001)\n",
    "    model.compile(optimizer=optimizer, loss='binary_crossentropy', metrics=['accuracy'])\n",
    "    return model\n",
    "  \n"
   ]
  },
  {
   "cell_type": "code",
   "execution_count": 6,
   "id": "86dbecde",
   "metadata": {},
   "outputs": [
    {
     "name": "stdout",
     "output_type": "stream",
     "text": [
      "WARNING:tensorflow:From c:\\Users\\divis\\OneDrive\\Documents\\Signature-Verification-using-machine-learning-main\\.venv\\lib\\site-packages\\keras\\src\\backend.py:873: The name tf.get_default_graph is deprecated. Please use tf.compat.v1.get_default_graph instead.\n",
      "\n",
      "WARNING:tensorflow:From c:\\Users\\divis\\OneDrive\\Documents\\Signature-Verification-using-machine-learning-main\\.venv\\lib\\site-packages\\keras\\src\\layers\\pooling\\max_pooling2d.py:161: The name tf.nn.max_pool is deprecated. Please use tf.nn.max_pool2d instead.\n",
      "\n",
      "Model: \"sequential\"\n",
      "_________________________________________________________________\n",
      " Layer (type)                Output Shape              Param #   \n",
      "=================================================================\n",
      " gaussian_noise (GaussianNo  (None, 128, 128, 1)       0         \n",
      " ise)                                                            \n",
      "                                                                 \n",
      " conv2d (Conv2D)             (None, 128, 128, 64)      640       \n",
      "                                                                 \n",
      " batch_normalization (Batch  (None, 128, 128, 64)      256       \n",
      " Normalization)                                                  \n",
      "                                                                 \n",
      " conv2d_1 (Conv2D)           (None, 128, 128, 64)      36928     \n",
      "                                                                 \n",
      " batch_normalization_1 (Bat  (None, 128, 128, 64)      256       \n",
      " chNormalization)                                                \n",
      "                                                                 \n",
      " max_pooling2d (MaxPooling2  (None, 64, 64, 64)        0         \n",
      " D)                                                              \n",
      "                                                                 \n",
      " dropout (Dropout)           (None, 64, 64, 64)        0         \n",
      "                                                                 \n",
      " conv2d_2 (Conv2D)           (None, 64, 64, 128)       73856     \n",
      "                                                                 \n",
      " batch_normalization_2 (Bat  (None, 64, 64, 128)       512       \n",
      " chNormalization)                                                \n",
      "                                                                 \n",
      " conv2d_3 (Conv2D)           (None, 64, 64, 128)       147584    \n",
      "                                                                 \n",
      " batch_normalization_3 (Bat  (None, 64, 64, 128)       512       \n",
      " chNormalization)                                                \n",
      "                                                                 \n",
      " max_pooling2d_1 (MaxPoolin  (None, 32, 32, 128)       0         \n",
      " g2D)                                                            \n",
      "                                                                 \n",
      " dropout_1 (Dropout)         (None, 32, 32, 128)       0         \n",
      "                                                                 \n",
      " conv2d_4 (Conv2D)           (None, 32, 32, 256)       295168    \n",
      "                                                                 \n",
      " batch_normalization_4 (Bat  (None, 32, 32, 256)       1024      \n",
      " chNormalization)                                                \n",
      "                                                                 \n",
      " conv2d_5 (Conv2D)           (None, 32, 32, 256)       590080    \n",
      "                                                                 \n",
      " batch_normalization_5 (Bat  (None, 32, 32, 256)       1024      \n",
      " chNormalization)                                                \n",
      "                                                                 \n",
      " max_pooling2d_2 (MaxPoolin  (None, 16, 16, 256)       0         \n",
      " g2D)                                                            \n",
      "                                                                 \n",
      " dropout_2 (Dropout)         (None, 16, 16, 256)       0         \n",
      "                                                                 \n",
      " flatten (Flatten)           (None, 65536)             0         \n",
      "                                                                 \n",
      " dense (Dense)               (None, 512)               33554944  \n",
      "                                                                 \n",
      " batch_normalization_6 (Bat  (None, 512)               2048      \n",
      " chNormalization)                                                \n",
      "                                                                 \n",
      " dropout_3 (Dropout)         (None, 512)               0         \n",
      "                                                                 \n",
      " dense_1 (Dense)             (None, 256)               131328    \n",
      "                                                                 \n",
      " batch_normalization_7 (Bat  (None, 256)               1024      \n",
      " chNormalization)                                                \n",
      "                                                                 \n",
      " dropout_4 (Dropout)         (None, 256)               0         \n",
      "                                                                 \n",
      " dense_2 (Dense)             (None, 1)                 257       \n",
      "                                                                 \n",
      "=================================================================\n",
      "Total params: 34837441 (132.89 MB)\n",
      "Trainable params: 34834113 (132.88 MB)\n",
      "Non-trainable params: 3328 (13.00 KB)\n",
      "_________________________________________________________________\n"
     ]
    }
   ],
   "source": [
    "\n",
    "input_shape = (128, 128, 1)  # Matches preprocessed image shape in the notebook\n",
    "model = create_improved_model(input_shape)\n",
    "model.summary()"
   ]
  },
  {
   "cell_type": "markdown",
   "id": "54c65068",
   "metadata": {},
   "source": [
    "# Train the model"
   ]
  },
  {
   "cell_type": "code",
   "execution_count": 7,
   "id": "cfcb654f",
   "metadata": {},
   "outputs": [],
   "source": [
    "from sklearn.model_selection import train_test_split\n",
    "\n",
    "\n",
    "data, labels = load_and_preprocess_images(genuine_image_path, forged_image_path)\n",
    "X_train, X_test, y_train, y_test = train_test_split(data, labels, test_size=0.2, random_state=42)"
   ]
  },
  {
   "cell_type": "code",
   "execution_count": 8,
   "id": "3daa0e85",
   "metadata": {},
   "outputs": [
    {
     "name": "stdout",
     "output_type": "stream",
     "text": [
      "Epoch 1/100\n",
      "WARNING:tensorflow:From c:\\Users\\divis\\OneDrive\\Documents\\Signature-Verification-using-machine-learning-main\\.venv\\lib\\site-packages\\keras\\src\\utils\\tf_utils.py:492: The name tf.ragged.RaggedTensorValue is deprecated. Please use tf.compat.v1.ragged.RaggedTensorValue instead.\n",
      "\n",
      "WARNING:tensorflow:From c:\\Users\\divis\\OneDrive\\Documents\\Signature-Verification-using-machine-learning-main\\.venv\\lib\\site-packages\\keras\\src\\engine\\base_layer_utils.py:384: The name tf.executing_eagerly_outside_functions is deprecated. Please use tf.compat.v1.executing_eagerly_outside_functions instead.\n",
      "\n",
      "5/5 [==============================] - 74s 12s/step - loss: 3.1677 - accuracy: 0.4747 - val_loss: 2.7567 - val_accuracy: 0.5250\n",
      "Epoch 2/100\n",
      "5/5 [==============================] - 58s 12s/step - loss: 2.7042 - accuracy: 0.6899 - val_loss: 2.7572 - val_accuracy: 0.5250\n",
      "Epoch 3/100\n",
      "5/5 [==============================] - 42s 8s/step - loss: 2.5962 - accuracy: 0.7722 - val_loss: 2.7609 - val_accuracy: 0.5250\n",
      "Epoch 4/100\n",
      "5/5 [==============================] - 58s 12s/step - loss: 2.5959 - accuracy: 0.7468 - val_loss: 2.7717 - val_accuracy: 0.5250\n",
      "Epoch 5/100\n",
      "5/5 [==============================] - 60s 12s/step - loss: 2.4486 - accuracy: 0.8165 - val_loss: 2.7907 - val_accuracy: 0.5250\n",
      "Epoch 6/100\n",
      "5/5 [==============================] - 24s 4s/step - loss: 2.3705 - accuracy: 0.8544 - val_loss: 2.8159 - val_accuracy: 0.5250\n"
     ]
    }
   ],
   "source": [
    "from tensorflow.keras.callbacks import EarlyStopping\n",
    "\n",
    "#early stopping\n",
    "early_stop = EarlyStopping(\n",
    "    monitor='val_loss',   \n",
    "    patience=5,           \n",
    "    restore_best_weights=True \n",
    ")\n",
    "\n",
    "\n",
    "history = model.fit(\n",
    "    X_train, y_train,\n",
    "    batch_size=32,\n",
    "    epochs=100,\n",
    "    validation_data=(X_test, y_test),\n",
    "    callbacks=[early_stop],   \n",
    "    verbose=1\n",
    ")\n"
   ]
  },
  {
   "cell_type": "markdown",
   "id": "73356e8f",
   "metadata": {},
   "source": [
    "# Plot learning curve for model"
   ]
  },
  {
   "cell_type": "code",
   "execution_count": 12,
   "id": "045098ea",
   "metadata": {},
   "outputs": [],
   "source": [
    "import matplotlib.pyplot as plt\n",
    "\n",
    "def plot_train_vs_test(history):\n",
    "    # Accuracy\n",
    "    plt.figure(figsize=(12,5))\n",
    "\n",
    "    # Plot accuracy\n",
    "    plt.subplot(1,2,1)\n",
    "    plt.plot(history.history['accuracy'], label='Train Accuracy')\n",
    "    if 'val_accuracy' in history.history:\n",
    "        plt.plot(history.history['val_accuracy'], label='Validation Accuracy')\n",
    "    plt.title('Model Accuracy')\n",
    "    plt.xlabel('Epoch')\n",
    "    plt.ylabel('Accuracy')\n",
    "    plt.legend(loc='upper left')\n",
    "\n",
    "    # Plot loss\n",
    "    plt.subplot(1,2,2)\n",
    "    plt.plot(history.history['loss'], label='Train Loss')\n",
    "    if 'val_loss' in history.history:\n",
    "        plt.plot(history.history['val_loss'], label='Validation Loss')\n",
    "    plt.title('Model Loss')\n",
    "    plt.xlabel('Epoch')\n",
    "    plt.ylabel('Loss')\n",
    "    plt.legend(loc='upper right')\n",
    "\n",
    "    plt.show()\n"
   ]
  },
  {
   "cell_type": "code",
   "execution_count": 13,
   "id": "b60881cb",
   "metadata": {},
   "outputs": [
    {
     "data": {
      "image/png": "[encoded data removed]",
      "text/plain": [
       "<Figure size 1200x500 with 2 Axes>"
      ]
     },
     "metadata": {},
     "output_type": "display_data"
    }
   ],
   "source": [
    "plot_train_vs_test(history)\n"
   ]
  },
  {
   "cell_type": "markdown",
   "id": "c2260c37",
   "metadata": {},
   "source": [
    "# Test  and evaluate the Model"
   ]
  },
  {
   "cell_type": "code",
   "execution_count": 11,
   "id": "ac3d2860",
   "metadata": {},
   "outputs": [
    {
     "name": "stdout",
     "output_type": "stream",
     "text": [
      "2/2 [==============================] - 1s 106ms/step - loss: 2.7567 - accuracy: 0.5250\n",
      "Test accuracy: 0.5249999761581421\n",
      "1/1 [==============================] - 0s 256ms/step\n",
      "Accuracy:  [[0.47657767]]\n",
      "Forged\n"
     ]
    }
   ],
   "source": [
    "def predict_signature(model, img_path):\n",
    "    img = io.imread(img_path, as_gray=True)\n",
    "    img = transform.resize(img, (128, 128))\n",
    "    img = np.array(img)\n",
    "    img = img.reshape((1, 128, 128, 1))\n",
    "    prediction = model.predict(img)\n",
    "    print(\"Accuracy: \", prediction)\n",
    "    return prediction[0][0] > 0.5\n",
    "\n",
    "# Test the model with an example\n",
    "# person_id = \"001\"\n",
    "# image_path = \"C:\\\\Users\\\\Divish\\\\Desktop\\\\Dataset2\\\\test\\\\001_001_000.png\"\n",
    "# result = predict_signature(model, image_path)\n",
    "# print(\"Genuine\" if result else \"Forged\")\n",
    "\n",
    "# Function to evaluate model's accuracy on test data\n",
    "def evaluate_model_accuracy(model, X_test, y_test):\n",
    "    test_loss, test_accuracy = model.evaluate(X_test, y_test)\n",
    "    print(\"Test accuracy:\", test_accuracy)\n",
    "\n",
    "evaluate_model_accuracy(model, X_test, y_test)\n",
    "\n",
    "# User input for person_id and image_path\n",
    "person_id = input(\"Enter person ID (e.g., 001): \")\n",
    "image_path = input(\"Enter image path (e.g., C:\\\\Users\\\\Divish\\\\Desktop\\\\Dataset2\\\\real\\\\001001_000.png): \")\n",
    "\n",
    "# validating person_id and image_path\n",
    "# while True:\n",
    "#     person_id = input(\"Enter person ID (e.g., 001): \")\n",
    "#     if person_id.isdigit() and 1 <= int(person_id) <= 20 and len(person_id) == 3:\n",
    "#         break\n",
    "#     else:\n",
    "#         print(\"Person ID should be a number between 001 to 020.\")\n",
    "\n",
    "# while True:\n",
    "#     image_path = input(\"Enter image path (e.g., C:\\\\Users\\\\Divish\\\\Desktop\\\\Dataset2\\\\real\\\\001001_000.png): \")\n",
    "#     if os.path.exists(image_path):\n",
    "#         filename = os.path.basename(image_path)\n",
    "#         parts = filename.split(\"_\")\n",
    "#         if len(parts) == 2:\n",
    "#             yyy = parts[0][-3:]\n",
    "#             zzz = parts[1][:-4]\n",
    "#             if yyy == person_id and zzz.isdigit() and 0 <= int(zzz) <= 4:\n",
    "#                 if \"real\" in image_path or \"forged\" in image_path:\n",
    "#                     if int(person_id) <= 20 and yyy in [\"001\", \"002\", \"003\", \"004\", \"005\", \"006\", \"007\", \"008\", \"009\", \"010\", \"011\", \"012\", \"013\", \"014\", \"015\", \"016\", \"017\", \"018\", \"019\", \"020\", \"021\"]:\n",
    "                            #break\n",
    "\n",
    "result = predict_signature(model, image_path)\n",
    "print(\"Genuine\" if result else \"Forged\")"
   ]
  },
  {
   "cell_type": "code",
   "execution_count": null,
   "id": "f1721e13",
   "metadata": {},
   "outputs": [],
   "source": []
  }
 ],
 "metadata": {
  "kernelspec": {
   "display_name": ".venv",
   "language": "python",
   "name": "python3"
  },
  "language_info": {
   "codemirror_mode": {
    "name": "ipython",
    "version": 3
   },
   "file_extension": ".py",
   "mimetype": "text/x-python",
   "name": "python",
   "nbconvert_exporter": "python",
   "pygments_lexer": "ipython3",
   "version": "3.10.17"
  }
 },
 "nbformat": 4,
 "nbformat_minor": 5
}
